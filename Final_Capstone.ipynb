{
  "nbformat": 4,
  "nbformat_minor": 0,
  "metadata": {
    "colab": {
      "provenance": [],
      "include_colab_link": true
    },
    "kernelspec": {
      "name": "python3",
      "display_name": "Python 3"
    },
    "language_info": {
      "name": "python"
    }
  },
  "cells": [
    {
      "cell_type": "markdown",
      "metadata": {
        "id": "view-in-github",
        "colab_type": "text"
      },
      "source": [
        "<a href=\"https://colab.research.google.com/github/RiteshDKgpian/X-tra-Telegram/blob/master/Final_Capstone.ipynb\" target=\"_parent\"><img src=\"https://colab.research.google.com/assets/colab-badge.svg\" alt=\"Open In Colab\"/></a>"
      ]
    },
    {
      "cell_type": "code",
      "execution_count": null,
      "metadata": {
        "id": "nahxsxkNUPRq"
      },
      "outputs": [],
      "source": [
        "import numpy as np, pandas as pd, matplotlib.pyplot as plt"
      ]
    },
    {
      "cell_type": "code",
      "source": [
        "from google.colab import drive\n",
        "drive.mount('/content/drive')"
      ],
      "metadata": {
        "colab": {
          "base_uri": "https://localhost:8080/"
        },
        "id": "x1oUVHRCUUyl",
        "outputId": "ee3e3a80-46ff-4c40-fc42-3a5336bd801e"
      },
      "execution_count": null,
      "outputs": [
        {
          "output_type": "stream",
          "name": "stdout",
          "text": [
            "Mounted at /content/drive\n"
          ]
        }
      ]
    },
    {
      "cell_type": "code",
      "source": [],
      "metadata": {
        "id": "MhUdj9H3mFSX"
      },
      "execution_count": null,
      "outputs": []
    },
    {
      "cell_type": "code",
      "source": [
        "df = pd.read_csv('/content/drive/MyDrive/Colab Notebooks/Train_Data_Health.csv')\n",
        "df"
      ],
      "metadata": {
        "colab": {
          "base_uri": "https://localhost:8080/",
          "height": 539
        },
        "id": "EgIceOofUyOK",
        "outputId": "a31ff161-1386-44c1-c7aa-e7b21d6def51"
      },
      "execution_count": null,
      "outputs": [
        {
          "output_type": "execute_result",
          "data": {
            "text/plain": [
              "         ID1  Specific ailments    ID2 Food preference  Age        BMI  \\\n",
              "0       2408                 44   2668             DX6   49  20.500470   \n",
              "1      25063                 39  10363        DX3 DX4    20  26.076580   \n",
              "2      26798                 29    132             DX6    1  21.420866   \n",
              "3      31907                 27  10499            DX1    30  25.203247   \n",
              "4      26412                  9   7963             DX6   40  19.355846   \n",
              "...      ...                ...    ...             ...  ...        ...   \n",
              "25915     69                 12    818             DX6   58  25.515286   \n",
              "25916  21001                 39  11500             DX6   16  27.094959   \n",
              "25917   4263                 44   2796            DX1     8  28.602921   \n",
              "25918  11208                 52  12190            DX1    52  21.909832   \n",
              "25919  21535                 17   8324            DX4    41  23.828813   \n",
              "\n",
              "      Smoker? Living in? Any heriditary condition?  Follow Diet  \\\n",
              "0          NO      RURAL                    Stable          1.0   \n",
              "1          NO      URBAN                    Stable          0.0   \n",
              "2          NO      URBAN                    Stable          1.0   \n",
              "3          NO      RURAL                    Stable          1.0   \n",
              "4         YES      RURAL                    Stable          1.0   \n",
              "...       ...        ...                       ...          ...   \n",
              "25915     YES      RURAL                    Stable          1.0   \n",
              "25916      NO      RURAL                    Stable          1.0   \n",
              "25917      NO      RURAL                    Stable          1.0   \n",
              "25918      NO      RURAL                    Stable          0.0   \n",
              "25919      NO      RURAL                    Stable          1.0   \n",
              "\n",
              "       Physical activity  Regular sleeping hours  Alcohol consumption  \\\n",
              "0                    0.0                     0.0                  0.0   \n",
              "1                    0.0                     0.0                  0.0   \n",
              "2                    0.0                     0.0                  0.0   \n",
              "3                    0.0                     0.0                  0.0   \n",
              "4                    0.0                     0.0                  0.0   \n",
              "...                  ...                     ...                  ...   \n",
              "25915                0.0                     0.0                  0.0   \n",
              "25916                0.0                     0.0                  0.0   \n",
              "25917                1.0                     0.0                  0.0   \n",
              "25918                1.0                     0.0                  1.0   \n",
              "25919                0.0                     0.0                  0.0   \n",
              "\n",
              "       Social interaction  Taking supplements  Mental health management  \\\n",
              "0                     0.0                 0.0                       0.0   \n",
              "1                     1.0                 0.0                       0.0   \n",
              "2                     0.0                 0.0                       0.0   \n",
              "3                     0.0                 0.0                       0.0   \n",
              "4                     1.0                 0.0                       0.0   \n",
              "...                   ...                 ...                       ...   \n",
              "25915                 0.0                 0.0                       0.0   \n",
              "25916                 0.0                 0.0                       0.0   \n",
              "25917                 0.0                 0.0                       0.0   \n",
              "25918                 0.0                 0.0                       0.0   \n",
              "25919                 0.0                 0.0                       0.0   \n",
              "\n",
              "       Illness count last year  Healthy  \n",
              "0                          1.0        1  \n",
              "1                          1.0        1  \n",
              "2                          1.0        0  \n",
              "3                          1.0        1  \n",
              "4                          2.0        1  \n",
              "...                        ...      ...  \n",
              "25915                      1.0        1  \n",
              "25916                      1.0        0  \n",
              "25917                      2.0        1  \n",
              "25918                      2.0        1  \n",
              "25919                      1.0        1  \n",
              "\n",
              "[25920 rows x 18 columns]"
            ],
            "text/html": [
              "\n",
              "\n",
              "  <div id=\"df-5fa478a4-e962-44a9-a5b6-1199a68f0a78\">\n",
              "    <div class=\"colab-df-container\">\n",
              "      <div>\n",
              "<style scoped>\n",
              "    .dataframe tbody tr th:only-of-type {\n",
              "        vertical-align: middle;\n",
              "    }\n",
              "\n",
              "    .dataframe tbody tr th {\n",
              "        vertical-align: top;\n",
              "    }\n",
              "\n",
              "    .dataframe thead th {\n",
              "        text-align: right;\n",
              "    }\n",
              "</style>\n",
              "<table border=\"1\" class=\"dataframe\">\n",
              "  <thead>\n",
              "    <tr style=\"text-align: right;\">\n",
              "      <th></th>\n",
              "      <th>ID1</th>\n",
              "      <th>Specific ailments</th>\n",
              "      <th>ID2</th>\n",
              "      <th>Food preference</th>\n",
              "      <th>Age</th>\n",
              "      <th>BMI</th>\n",
              "      <th>Smoker?</th>\n",
              "      <th>Living in?</th>\n",
              "      <th>Any heriditary condition?</th>\n",
              "      <th>Follow Diet</th>\n",
              "      <th>Physical activity</th>\n",
              "      <th>Regular sleeping hours</th>\n",
              "      <th>Alcohol consumption</th>\n",
              "      <th>Social interaction</th>\n",
              "      <th>Taking supplements</th>\n",
              "      <th>Mental health management</th>\n",
              "      <th>Illness count last year</th>\n",
              "      <th>Healthy</th>\n",
              "    </tr>\n",
              "  </thead>\n",
              "  <tbody>\n",
              "    <tr>\n",
              "      <th>0</th>\n",
              "      <td>2408</td>\n",
              "      <td>44</td>\n",
              "      <td>2668</td>\n",
              "      <td>DX6</td>\n",
              "      <td>49</td>\n",
              "      <td>20.500470</td>\n",
              "      <td>NO</td>\n",
              "      <td>RURAL</td>\n",
              "      <td>Stable</td>\n",
              "      <td>1.0</td>\n",
              "      <td>0.0</td>\n",
              "      <td>0.0</td>\n",
              "      <td>0.0</td>\n",
              "      <td>0.0</td>\n",
              "      <td>0.0</td>\n",
              "      <td>0.0</td>\n",
              "      <td>1.0</td>\n",
              "      <td>1</td>\n",
              "    </tr>\n",
              "    <tr>\n",
              "      <th>1</th>\n",
              "      <td>25063</td>\n",
              "      <td>39</td>\n",
              "      <td>10363</td>\n",
              "      <td>DX3 DX4</td>\n",
              "      <td>20</td>\n",
              "      <td>26.076580</td>\n",
              "      <td>NO</td>\n",
              "      <td>URBAN</td>\n",
              "      <td>Stable</td>\n",
              "      <td>0.0</td>\n",
              "      <td>0.0</td>\n",
              "      <td>0.0</td>\n",
              "      <td>0.0</td>\n",
              "      <td>1.0</td>\n",
              "      <td>0.0</td>\n",
              "      <td>0.0</td>\n",
              "      <td>1.0</td>\n",
              "      <td>1</td>\n",
              "    </tr>\n",
              "    <tr>\n",
              "      <th>2</th>\n",
              "      <td>26798</td>\n",
              "      <td>29</td>\n",
              "      <td>132</td>\n",
              "      <td>DX6</td>\n",
              "      <td>1</td>\n",
              "      <td>21.420866</td>\n",
              "      <td>NO</td>\n",
              "      <td>URBAN</td>\n",
              "      <td>Stable</td>\n",
              "      <td>1.0</td>\n",
              "      <td>0.0</td>\n",
              "      <td>0.0</td>\n",
              "      <td>0.0</td>\n",
              "      <td>0.0</td>\n",
              "      <td>0.0</td>\n",
              "      <td>0.0</td>\n",
              "      <td>1.0</td>\n",
              "      <td>0</td>\n",
              "    </tr>\n",
              "    <tr>\n",
              "      <th>3</th>\n",
              "      <td>31907</td>\n",
              "      <td>27</td>\n",
              "      <td>10499</td>\n",
              "      <td>DX1</td>\n",
              "      <td>30</td>\n",
              "      <td>25.203247</td>\n",
              "      <td>NO</td>\n",
              "      <td>RURAL</td>\n",
              "      <td>Stable</td>\n",
              "      <td>1.0</td>\n",
              "      <td>0.0</td>\n",
              "      <td>0.0</td>\n",
              "      <td>0.0</td>\n",
              "      <td>0.0</td>\n",
              "      <td>0.0</td>\n",
              "      <td>0.0</td>\n",
              "      <td>1.0</td>\n",
              "      <td>1</td>\n",
              "    </tr>\n",
              "    <tr>\n",
              "      <th>4</th>\n",
              "      <td>26412</td>\n",
              "      <td>9</td>\n",
              "      <td>7963</td>\n",
              "      <td>DX6</td>\n",
              "      <td>40</td>\n",
              "      <td>19.355846</td>\n",
              "      <td>YES</td>\n",
              "      <td>RURAL</td>\n",
              "      <td>Stable</td>\n",
              "      <td>1.0</td>\n",
              "      <td>0.0</td>\n",
              "      <td>0.0</td>\n",
              "      <td>0.0</td>\n",
              "      <td>1.0</td>\n",
              "      <td>0.0</td>\n",
              "      <td>0.0</td>\n",
              "      <td>2.0</td>\n",
              "      <td>1</td>\n",
              "    </tr>\n",
              "    <tr>\n",
              "      <th>...</th>\n",
              "      <td>...</td>\n",
              "      <td>...</td>\n",
              "      <td>...</td>\n",
              "      <td>...</td>\n",
              "      <td>...</td>\n",
              "      <td>...</td>\n",
              "      <td>...</td>\n",
              "      <td>...</td>\n",
              "      <td>...</td>\n",
              "      <td>...</td>\n",
              "      <td>...</td>\n",
              "      <td>...</td>\n",
              "      <td>...</td>\n",
              "      <td>...</td>\n",
              "      <td>...</td>\n",
              "      <td>...</td>\n",
              "      <td>...</td>\n",
              "      <td>...</td>\n",
              "    </tr>\n",
              "    <tr>\n",
              "      <th>25915</th>\n",
              "      <td>69</td>\n",
              "      <td>12</td>\n",
              "      <td>818</td>\n",
              "      <td>DX6</td>\n",
              "      <td>58</td>\n",
              "      <td>25.515286</td>\n",
              "      <td>YES</td>\n",
              "      <td>RURAL</td>\n",
              "      <td>Stable</td>\n",
              "      <td>1.0</td>\n",
              "      <td>0.0</td>\n",
              "      <td>0.0</td>\n",
              "      <td>0.0</td>\n",
              "      <td>0.0</td>\n",
              "      <td>0.0</td>\n",
              "      <td>0.0</td>\n",
              "      <td>1.0</td>\n",
              "      <td>1</td>\n",
              "    </tr>\n",
              "    <tr>\n",
              "      <th>25916</th>\n",
              "      <td>21001</td>\n",
              "      <td>39</td>\n",
              "      <td>11500</td>\n",
              "      <td>DX6</td>\n",
              "      <td>16</td>\n",
              "      <td>27.094959</td>\n",
              "      <td>NO</td>\n",
              "      <td>RURAL</td>\n",
              "      <td>Stable</td>\n",
              "      <td>1.0</td>\n",
              "      <td>0.0</td>\n",
              "      <td>0.0</td>\n",
              "      <td>0.0</td>\n",
              "      <td>0.0</td>\n",
              "      <td>0.0</td>\n",
              "      <td>0.0</td>\n",
              "      <td>1.0</td>\n",
              "      <td>0</td>\n",
              "    </tr>\n",
              "    <tr>\n",
              "      <th>25917</th>\n",
              "      <td>4263</td>\n",
              "      <td>44</td>\n",
              "      <td>2796</td>\n",
              "      <td>DX1</td>\n",
              "      <td>8</td>\n",
              "      <td>28.602921</td>\n",
              "      <td>NO</td>\n",
              "      <td>RURAL</td>\n",
              "      <td>Stable</td>\n",
              "      <td>1.0</td>\n",
              "      <td>1.0</td>\n",
              "      <td>0.0</td>\n",
              "      <td>0.0</td>\n",
              "      <td>0.0</td>\n",
              "      <td>0.0</td>\n",
              "      <td>0.0</td>\n",
              "      <td>2.0</td>\n",
              "      <td>1</td>\n",
              "    </tr>\n",
              "    <tr>\n",
              "      <th>25918</th>\n",
              "      <td>11208</td>\n",
              "      <td>52</td>\n",
              "      <td>12190</td>\n",
              "      <td>DX1</td>\n",
              "      <td>52</td>\n",
              "      <td>21.909832</td>\n",
              "      <td>NO</td>\n",
              "      <td>RURAL</td>\n",
              "      <td>Stable</td>\n",
              "      <td>0.0</td>\n",
              "      <td>1.0</td>\n",
              "      <td>0.0</td>\n",
              "      <td>1.0</td>\n",
              "      <td>0.0</td>\n",
              "      <td>0.0</td>\n",
              "      <td>0.0</td>\n",
              "      <td>2.0</td>\n",
              "      <td>1</td>\n",
              "    </tr>\n",
              "    <tr>\n",
              "      <th>25919</th>\n",
              "      <td>21535</td>\n",
              "      <td>17</td>\n",
              "      <td>8324</td>\n",
              "      <td>DX4</td>\n",
              "      <td>41</td>\n",
              "      <td>23.828813</td>\n",
              "      <td>NO</td>\n",
              "      <td>RURAL</td>\n",
              "      <td>Stable</td>\n",
              "      <td>1.0</td>\n",
              "      <td>0.0</td>\n",
              "      <td>0.0</td>\n",
              "      <td>0.0</td>\n",
              "      <td>0.0</td>\n",
              "      <td>0.0</td>\n",
              "      <td>0.0</td>\n",
              "      <td>1.0</td>\n",
              "      <td>1</td>\n",
              "    </tr>\n",
              "  </tbody>\n",
              "</table>\n",
              "<p>25920 rows × 18 columns</p>\n",
              "</div>\n",
              "      <button class=\"colab-df-convert\" onclick=\"convertToInteractive('df-5fa478a4-e962-44a9-a5b6-1199a68f0a78')\"\n",
              "              title=\"Convert this dataframe to an interactive table.\"\n",
              "              style=\"display:none;\">\n",
              "\n",
              "  <svg xmlns=\"http://www.w3.org/2000/svg\" height=\"24px\"viewBox=\"0 0 24 24\"\n",
              "       width=\"24px\">\n",
              "    <path d=\"M0 0h24v24H0V0z\" fill=\"none\"/>\n",
              "    <path d=\"M18.56 5.44l.94 2.06.94-2.06 2.06-.94-2.06-.94-.94-2.06-.94 2.06-2.06.94zm-11 1L8.5 8.5l.94-2.06 2.06-.94-2.06-.94L8.5 2.5l-.94 2.06-2.06.94zm10 10l.94 2.06.94-2.06 2.06-.94-2.06-.94-.94-2.06-.94 2.06-2.06.94z\"/><path d=\"M17.41 7.96l-1.37-1.37c-.4-.4-.92-.59-1.43-.59-.52 0-1.04.2-1.43.59L10.3 9.45l-7.72 7.72c-.78.78-.78 2.05 0 2.83L4 21.41c.39.39.9.59 1.41.59.51 0 1.02-.2 1.41-.59l7.78-7.78 2.81-2.81c.8-.78.8-2.07 0-2.86zM5.41 20L4 18.59l7.72-7.72 1.47 1.35L5.41 20z\"/>\n",
              "  </svg>\n",
              "      </button>\n",
              "\n",
              "\n",
              "\n",
              "    <div id=\"df-c9595436-3d92-4bdf-bd4e-e7aafe4c79ef\">\n",
              "      <button class=\"colab-df-quickchart\" onclick=\"quickchart('df-c9595436-3d92-4bdf-bd4e-e7aafe4c79ef')\"\n",
              "              title=\"Suggest charts.\"\n",
              "              style=\"display:none;\">\n",
              "\n",
              "<svg xmlns=\"http://www.w3.org/2000/svg\" height=\"24px\"viewBox=\"0 0 24 24\"\n",
              "     width=\"24px\">\n",
              "    <g>\n",
              "        <path d=\"M19 3H5c-1.1 0-2 .9-2 2v14c0 1.1.9 2 2 2h14c1.1 0 2-.9 2-2V5c0-1.1-.9-2-2-2zM9 17H7v-7h2v7zm4 0h-2V7h2v10zm4 0h-2v-4h2v4z\"/>\n",
              "    </g>\n",
              "</svg>\n",
              "      </button>\n",
              "    </div>\n",
              "\n",
              "<style>\n",
              "  .colab-df-quickchart {\n",
              "    background-color: #E8F0FE;\n",
              "    border: none;\n",
              "    border-radius: 50%;\n",
              "    cursor: pointer;\n",
              "    display: none;\n",
              "    fill: #1967D2;\n",
              "    height: 32px;\n",
              "    padding: 0 0 0 0;\n",
              "    width: 32px;\n",
              "  }\n",
              "\n",
              "  .colab-df-quickchart:hover {\n",
              "    background-color: #E2EBFA;\n",
              "    box-shadow: 0px 1px 2px rgba(60, 64, 67, 0.3), 0px 1px 3px 1px rgba(60, 64, 67, 0.15);\n",
              "    fill: #174EA6;\n",
              "  }\n",
              "\n",
              "  [theme=dark] .colab-df-quickchart {\n",
              "    background-color: #3B4455;\n",
              "    fill: #D2E3FC;\n",
              "  }\n",
              "\n",
              "  [theme=dark] .colab-df-quickchart:hover {\n",
              "    background-color: #434B5C;\n",
              "    box-shadow: 0px 1px 3px 1px rgba(0, 0, 0, 0.15);\n",
              "    filter: drop-shadow(0px 1px 2px rgba(0, 0, 0, 0.3));\n",
              "    fill: #FFFFFF;\n",
              "  }\n",
              "</style>\n",
              "\n",
              "    <script>\n",
              "      async function quickchart(key) {\n",
              "        const containerElement = document.querySelector('#' + key);\n",
              "        const charts = await google.colab.kernel.invokeFunction(\n",
              "            'suggestCharts', [key], {});\n",
              "      }\n",
              "    </script>\n",
              "\n",
              "      <script>\n",
              "\n",
              "function displayQuickchartButton(domScope) {\n",
              "  let quickchartButtonEl =\n",
              "    domScope.querySelector('#df-c9595436-3d92-4bdf-bd4e-e7aafe4c79ef button.colab-df-quickchart');\n",
              "  quickchartButtonEl.style.display =\n",
              "    google.colab.kernel.accessAllowed ? 'block' : 'none';\n",
              "}\n",
              "\n",
              "        displayQuickchartButton(document);\n",
              "      </script>\n",
              "      <style>\n",
              "    .colab-df-container {\n",
              "      display:flex;\n",
              "      flex-wrap:wrap;\n",
              "      gap: 12px;\n",
              "    }\n",
              "\n",
              "    .colab-df-convert {\n",
              "      background-color: #E8F0FE;\n",
              "      border: none;\n",
              "      border-radius: 50%;\n",
              "      cursor: pointer;\n",
              "      display: none;\n",
              "      fill: #1967D2;\n",
              "      height: 32px;\n",
              "      padding: 0 0 0 0;\n",
              "      width: 32px;\n",
              "    }\n",
              "\n",
              "    .colab-df-convert:hover {\n",
              "      background-color: #E2EBFA;\n",
              "      box-shadow: 0px 1px 2px rgba(60, 64, 67, 0.3), 0px 1px 3px 1px rgba(60, 64, 67, 0.15);\n",
              "      fill: #174EA6;\n",
              "    }\n",
              "\n",
              "    [theme=dark] .colab-df-convert {\n",
              "      background-color: #3B4455;\n",
              "      fill: #D2E3FC;\n",
              "    }\n",
              "\n",
              "    [theme=dark] .colab-df-convert:hover {\n",
              "      background-color: #434B5C;\n",
              "      box-shadow: 0px 1px 3px 1px rgba(0, 0, 0, 0.15);\n",
              "      filter: drop-shadow(0px 1px 2px rgba(0, 0, 0, 0.3));\n",
              "      fill: #FFFFFF;\n",
              "    }\n",
              "  </style>\n",
              "\n",
              "      <script>\n",
              "        const buttonEl =\n",
              "          document.querySelector('#df-5fa478a4-e962-44a9-a5b6-1199a68f0a78 button.colab-df-convert');\n",
              "        buttonEl.style.display =\n",
              "          google.colab.kernel.accessAllowed ? 'block' : 'none';\n",
              "\n",
              "        async function convertToInteractive(key) {\n",
              "          const element = document.querySelector('#df-5fa478a4-e962-44a9-a5b6-1199a68f0a78');\n",
              "          const dataTable =\n",
              "            await google.colab.kernel.invokeFunction('convertToInteractive',\n",
              "                                                     [key], {});\n",
              "          if (!dataTable) return;\n",
              "\n",
              "          const docLinkHtml = 'Like what you see? Visit the ' +\n",
              "            '<a target=\"_blank\" href=https://colab.research.google.com/notebooks/data_table.ipynb>data table notebook</a>'\n",
              "            + ' to learn more about interactive tables.';\n",
              "          element.innerHTML = '';\n",
              "          dataTable['output_type'] = 'display_data';\n",
              "          await google.colab.output.renderOutput(dataTable, element);\n",
              "          const docLink = document.createElement('div');\n",
              "          docLink.innerHTML = docLinkHtml;\n",
              "          element.appendChild(docLink);\n",
              "        }\n",
              "      </script>\n",
              "    </div>\n",
              "  </div>\n"
            ]
          },
          "metadata": {},
          "execution_count": 7
        }
      ]
    },
    {
      "cell_type": "code",
      "source": [
        "df['Food preference'].value_counts()"
      ],
      "metadata": {
        "colab": {
          "base_uri": "https://localhost:8080/"
        },
        "id": "yWGxWJTdXdx9",
        "outputId": "000bcad2-a59f-43ce-de7c-391e26a9c674"
      },
      "execution_count": null,
      "outputs": [
        {
          "output_type": "execute_result",
          "data": {
            "text/plain": [
              "DX6                     9639\n",
              "DX5                     2167\n",
              "DX2                     2128\n",
              "DX4                     2099\n",
              "DX3                     2072\n",
              "DX1                     2063\n",
              "DX1 DX2                  480\n",
              "DX2 DX4                  476\n",
              "DX3 DX4                  471\n",
              "DX1 DX3                  461\n",
              "DX4 DX5                  459\n",
              "DX2 DX5                  459\n",
              "DX2 DX3                  452\n",
              "DX1 DX5                  450\n",
              "DX3 DX5                  443\n",
              "DX1 DX4                  437\n",
              "DX1 DX2 DX5              116\n",
              "DX1 DX3 DX4              113\n",
              "DX1 DX2 DX3              110\n",
              "DX1 DX2 DX4              110\n",
              "DX3 DX4 DX5              109\n",
              "DX2 DX3 DX5              105\n",
              "DX1 DX3 DX5               98\n",
              "DX2 DX4 DX5               98\n",
              "DX2 DX3 DX4               90\n",
              "DX1 DX4 DX5               89\n",
              "DX1 DX3 DX4 DX5           27\n",
              "DX2 DX3 DX4 DX5           26\n",
              "DX1 DX2 DX4 DX5           23\n",
              "DX1 DX2 DX3 DX4           20\n",
              "DX1 DX2 DX3 DX5           16\n",
              "DX1 DX2 DX3 DX4 DX5        4\n",
              "Name: Food preference, dtype: int64"
            ]
          },
          "metadata": {},
          "execution_count": 8
        }
      ]
    },
    {
      "cell_type": "code",
      "source": [
        "df = df.drop(['Food preference'], axis =1)"
      ],
      "metadata": {
        "id": "uqngjSlgdwVZ"
      },
      "execution_count": null,
      "outputs": []
    },
    {
      "cell_type": "code",
      "source": [
        "df.isna().sum()"
      ],
      "metadata": {
        "colab": {
          "base_uri": "https://localhost:8080/"
        },
        "id": "_g796KSGb51n",
        "outputId": "7baf7a33-f59e-45d0-b3ce-197afe6c21c6"
      },
      "execution_count": null,
      "outputs": [
        {
          "output_type": "execute_result",
          "data": {
            "text/plain": [
              "ID1                            0\n",
              "Specific ailments              0\n",
              "ID2                            0\n",
              "Age                            0\n",
              "BMI                            0\n",
              "Smoker?                        0\n",
              "Living in?                     0\n",
              "Any heriditary condition?      0\n",
              "Follow Diet                  973\n",
              "Physical activity            973\n",
              "Regular sleeping hours       973\n",
              "Alcohol consumption          973\n",
              "Social interaction           973\n",
              "Taking supplements           973\n",
              "Mental health management     973\n",
              "Illness count last year      973\n",
              "Healthy                        0\n",
              "dtype: int64"
            ]
          },
          "metadata": {},
          "execution_count": 10
        }
      ]
    },
    {
      "cell_type": "code",
      "source": [
        "from sklearn.preprocessing import LabelEncoder\n"
      ],
      "metadata": {
        "id": "qTl6LbE-YU-6"
      },
      "execution_count": null,
      "outputs": []
    },
    {
      "cell_type": "code",
      "source": [
        "X = df.drop(['Healthy'], axis = 1)\n",
        "y = df['Healthy']"
      ],
      "metadata": {
        "id": "0X2h7WfTZ2kg"
      },
      "execution_count": null,
      "outputs": []
    },
    {
      "cell_type": "code",
      "source": [
        "# lbl = LabelEncoder()\n",
        "# X = X.drop(['ID1'], axis = 1, inplace = True)\n",
        "# X = X.drop(['ID2'], axis = 1, inplace = True)\n",
        "\n",
        "X = X.apply(LabelEncoder().fit_transform)"
      ],
      "metadata": {
        "id": "5zV6qMLfYF2S"
      },
      "execution_count": null,
      "outputs": []
    },
    {
      "cell_type": "code",
      "source": [
        "X.value_counts()\n",
        "# X_train['Food preference'].value_counts()"
      ],
      "metadata": {
        "colab": {
          "base_uri": "https://localhost:8080/"
        },
        "id": "lCLIJkvic8Gq",
        "outputId": "1db27374-accd-4416-e729-2546ca9d7b59"
      },
      "execution_count": null,
      "outputs": [
        {
          "output_type": "execute_result",
          "data": {
            "text/plain": [
              "ID1    Specific ailments  ID2    Age  BMI    Smoker?  Living in?  Any heriditary condition?  Follow Diet  Physical activity  Regular sleeping hours  Alcohol consumption  Social interaction  Taking supplements  Mental health management  Illness count last year\n",
              "0      1                  4636   27   8198   2        0           0                          0            0                  1                       0                    0                   0                   0                         0                          1\n",
              "17277  41                 363    4    793    1        0           0                          1            0                  0                       0                    0                   0                   0                         0                          1\n",
              "17287  1                  10418  25   1089   2        0           0                          1            0                  0                       0                    0                   0                   0                         0                          1\n",
              "17286  16                 8720   8    10560  1        1           0                          1            1                  0                       0                    0                   0                   0                         1                          1\n",
              "17285  10                 8663   5    3893   1        1           0                          1            0                  0                       0                    1                   0                   0                         1                          1\n",
              "                                                                                                                                                                                                                                                                      ..\n",
              "8636   48                 10095  10   193    1        1           0                          1            0                  0                       1                    1                   0                   0                         2                          1\n",
              "8635   1                  5033   65   419    2        0           0                          1            0                  0                       0                    0                   0                   0                         0                          1\n",
              "8634   51                 6759   59   7394   2        0           0                          0            0                  0                       0                    1                   0                   0                         0                          1\n",
              "8633   50                 9810   60   1437   1        0           0                          1            0                  0                       0                    0                   0                   0                         0                          1\n",
              "25919  0                  10940  75   7      0        0           0                          0            0                  0                       0                    0                   0                   1                         0                          1\n",
              "Length: 25920, dtype: int64"
            ]
          },
          "metadata": {},
          "execution_count": 14
        }
      ]
    },
    {
      "cell_type": "code",
      "source": [
        "X.isna().sum()"
      ],
      "metadata": {
        "colab": {
          "base_uri": "https://localhost:8080/"
        },
        "id": "USiDHsayZDfm",
        "outputId": "48d22f82-3db9-488d-c8e9-1b3e4f4329a8"
      },
      "execution_count": null,
      "outputs": [
        {
          "output_type": "execute_result",
          "data": {
            "text/plain": [
              "ID1                          0\n",
              "Specific ailments            0\n",
              "ID2                          0\n",
              "Age                          0\n",
              "BMI                          0\n",
              "Smoker?                      0\n",
              "Living in?                   0\n",
              "Any heriditary condition?    0\n",
              "Follow Diet                  0\n",
              "Physical activity            0\n",
              "Regular sleeping hours       0\n",
              "Alcohol consumption          0\n",
              "Social interaction           0\n",
              "Taking supplements           0\n",
              "Mental health management     0\n",
              "Illness count last year      0\n",
              "dtype: int64"
            ]
          },
          "metadata": {},
          "execution_count": 15
        }
      ]
    },
    {
      "cell_type": "code",
      "source": [
        "from sklearn.model_selection import train_test_split,GridSearchCV\n",
        "\n",
        "X_train, X_test, y_train, y_test = train_test_split(X, y, test_size = 0.33, random_state = 42)"
      ],
      "metadata": {
        "id": "F2D8Pw-TaZ-l"
      },
      "execution_count": null,
      "outputs": []
    },
    {
      "cell_type": "code",
      "source": [
        "from sklearn.naive_bayes import GaussianNB\n",
        "from sklearn.linear_model import LogisticRegression\n",
        "from sklearn.neighbors import KNeighborsClassifier\n",
        "from sklearn.tree import DecisionTreeClassifier\n",
        "from sklearn.ensemble import RandomForestClassifier\n",
        "from xgboost import XGBClassifier, XGBRFClassifier\n",
        "from xgboost import plot_tree, plot_importance\n",
        "from sklearn.ensemble import AdaBoostClassifier\n",
        "from sklearn.metrics import confusion_matrix, accuracy_score, roc_auc_score, roc_curve\n",
        "from sklearn import preprocessing"
      ],
      "metadata": {
        "id": "8Fg5NIRAcVMj"
      },
      "execution_count": null,
      "outputs": []
    },
    {
      "cell_type": "code",
      "source": [
        "def score(model, title = \"Default\"):\n",
        "    model.fit(X_train, y_train)\n",
        "    preds = model.predict(X_test)\n",
        "    # print(confusion_matrix(y_test, preds))\n",
        "    accuracy = round(accuracy_score(y_test, preds), 5)\n",
        "    print('Accuracy for', title, ':', accuracy, '\\n')\n",
        "    return preds"
      ],
      "metadata": {
        "id": "wN6SMleEcc9s"
      },
      "execution_count": null,
      "outputs": []
    },
    {
      "cell_type": "code",
      "source": [
        "lg = LogisticRegression(random_state=0, solver='lbfgs', multi_class='multinomial')\n",
        "score(lg, \"Logistic Regression\")"
      ],
      "metadata": {
        "colab": {
          "base_uri": "https://localhost:8080/"
        },
        "id": "1qdeYhnrcgzh",
        "outputId": "ccd152e6-9c09-42c6-dc40-4624088166ce"
      },
      "execution_count": null,
      "outputs": [
        {
          "output_type": "stream",
          "name": "stdout",
          "text": [
            "Accuracy for Logistic Regression : 0.62579 \n",
            "\n"
          ]
        },
        {
          "output_type": "execute_result",
          "data": {
            "text/plain": [
              "array([1, 1, 1, ..., 1, 1, 1])"
            ]
          },
          "metadata": {},
          "execution_count": 19
        }
      ]
    },
    {
      "cell_type": "code",
      "source": [
        "ada = AdaBoostClassifier(n_estimators=1000,random_state=0)\n",
        "score(ada, \"AdaBoostClassifier\")"
      ],
      "metadata": {
        "colab": {
          "base_uri": "https://localhost:8080/"
        },
        "id": "2Z3CrJYFe9Kw",
        "outputId": "dc150889-bbb6-4d7b-c8b5-72093c31cd0d"
      },
      "execution_count": null,
      "outputs": [
        {
          "output_type": "stream",
          "name": "stdout",
          "text": [
            "Accuracy for AdaBoostClassifier : 0.76841 \n",
            "\n"
          ]
        },
        {
          "output_type": "execute_result",
          "data": {
            "text/plain": [
              "array([1, 1, 1, ..., 1, 1, 0])"
            ]
          },
          "metadata": {},
          "execution_count": 20
        }
      ]
    },
    {
      "cell_type": "code",
      "source": [
        "rdf = RandomForestClassifier(n_estimators=1000,max_depth=10,random_state=0)\n",
        "score(rdf,'RandomForestClassifier')"
      ],
      "metadata": {
        "colab": {
          "base_uri": "https://localhost:8080/"
        },
        "id": "T9Icn8DGfU5a",
        "outputId": "e98e61fd-1d0c-498d-9986-b15a10c20ba2"
      },
      "execution_count": null,
      "outputs": [
        {
          "output_type": "stream",
          "name": "stdout",
          "text": [
            "Accuracy for RandomForestClassifier : 0.78104 \n",
            "\n"
          ]
        },
        {
          "output_type": "execute_result",
          "data": {
            "text/plain": [
              "array([0, 0, 1, ..., 1, 1, 1])"
            ]
          },
          "metadata": {},
          "execution_count": 35
        }
      ]
    },
    {
      "cell_type": "code",
      "source": [
        "x_tes = pd.read_csv('/content/drive/MyDrive/Colab Notebooks/Test_Data_Health.csv')"
      ],
      "metadata": {
        "id": "pBkR7nM0o-6a"
      },
      "execution_count": null,
      "outputs": []
    },
    {
      "cell_type": "code",
      "source": [
        "x_tes = x_tes.apply(LabelEncoder().fit_transform)\n",
        "x_tes = x_tes.drop(['Food preference'], axis =1)"
      ],
      "metadata": {
        "id": "7ep1P7zNpEu0"
      },
      "execution_count": null,
      "outputs": []
    },
    {
      "cell_type": "code",
      "source": [
        "pred = rdf.predict(x_tes)"
      ],
      "metadata": {
        "id": "CHhd5cVypIyb"
      },
      "execution_count": null,
      "outputs": []
    },
    {
      "cell_type": "code",
      "source": [
        "res_rdf = pd.DataFrame(pred)"
      ],
      "metadata": {
        "id": "j4YWej2apQI-"
      },
      "execution_count": null,
      "outputs": []
    },
    {
      "cell_type": "code",
      "source": [
        "res_rdf.to_csv('res_rdf.csv', index=False)"
      ],
      "metadata": {
        "id": "r-05SBUdpRYW"
      },
      "execution_count": null,
      "outputs": []
    },
    {
      "cell_type": "code",
      "source": [
        "nb = GaussianNB()\n",
        "score(nb,'GaussianNB without hyperparameter tuning')\n",
        "\n",
        "params_NB = {'var_smoothing': np.logspace(0,-9, num=100)}\n",
        "gs_NB = GridSearchCV(estimator=nb,\n",
        "                 param_grid=params_NB,\n",
        "                 cv=4,\n",
        "                 verbose=1,\n",
        "                 scoring='accuracy')\n",
        "score(gs_NB,'GaussianNB with hyperparameter tuning')"
      ],
      "metadata": {
        "colab": {
          "base_uri": "https://localhost:8080/"
        },
        "id": "CeHG8OGwfcm5",
        "outputId": "84812644-6552-457a-dcbf-b2d376347c53"
      },
      "execution_count": null,
      "outputs": [
        {
          "output_type": "stream",
          "name": "stdout",
          "text": [
            "Accuracy for GaussianNB without hyperparameter tuning : 0.63935 \n",
            "\n",
            "Fitting 4 folds for each of 100 candidates, totalling 400 fits\n",
            "Accuracy for GaussianNB with hyperparameter tuning : 0.7109 \n",
            "\n"
          ]
        },
        {
          "output_type": "execute_result",
          "data": {
            "text/plain": [
              "array([1, 1, 1, ..., 1, 1, 1])"
            ]
          },
          "metadata": {},
          "execution_count": 22
        }
      ]
    },
    {
      "cell_type": "code",
      "source": [
        "knn = KNeighborsClassifier(n_neighbors=6)\n",
        "score(knn,'KNeighborsClassifier')"
      ],
      "metadata": {
        "colab": {
          "base_uri": "https://localhost:8080/"
        },
        "id": "_5MLlcUQfgvb",
        "outputId": "59dd6354-fbc7-4fb3-ca77-82e0d454755c"
      },
      "execution_count": null,
      "outputs": [
        {
          "output_type": "stream",
          "name": "stdout",
          "text": [
            "Accuracy for KNeighborsClassifier : 0.60346 \n",
            "\n"
          ]
        },
        {
          "output_type": "execute_result",
          "data": {
            "text/plain": [
              "array([1, 1, 0, ..., 1, 1, 1])"
            ]
          },
          "metadata": {},
          "execution_count": 23
        }
      ]
    },
    {
      "cell_type": "code",
      "source": [
        "dtc = DecisionTreeClassifier(random_state=10)\n",
        "# The model is the best at default(just with random_state value change) given the number of parameters that can be modified for DTC\n",
        "score(dtc,'DecisionTreeClassifier')"
      ],
      "metadata": {
        "colab": {
          "base_uri": "https://localhost:8080/"
        },
        "id": "bOp2aA1jfnGs",
        "outputId": "ec4ec942-2ecb-45da-fff2-6a774024024c"
      },
      "execution_count": null,
      "outputs": [
        {
          "output_type": "stream",
          "name": "stdout",
          "text": [
            "Accuracy for DecisionTreeClassifier : 0.68412 \n",
            "\n"
          ]
        },
        {
          "output_type": "execute_result",
          "data": {
            "text/plain": [
              "array([0, 0, 1, ..., 1, 0, 0])"
            ]
          },
          "metadata": {},
          "execution_count": 24
        }
      ]
    },
    {
      "cell_type": "code",
      "source": [
        "dtc = DecisionTreeClassifier(criterion = 'gini',max_depth = 10,random_state=0)\n",
        "score(dtc,'DecisionTreeClassifier')"
      ],
      "metadata": {
        "colab": {
          "base_uri": "https://localhost:8080/"
        },
        "id": "VnQrZs2ofsaw",
        "outputId": "0e887287-21c0-4525-8151-ca48a2986ece"
      },
      "execution_count": null,
      "outputs": [
        {
          "output_type": "stream",
          "name": "stdout",
          "text": [
            "Accuracy for DecisionTreeClassifier : 0.75918 \n",
            "\n"
          ]
        },
        {
          "output_type": "execute_result",
          "data": {
            "text/plain": [
              "array([0, 0, 1, ..., 1, 1, 1])"
            ]
          },
          "metadata": {},
          "execution_count": 25
        }
      ]
    },
    {
      "cell_type": "code",
      "source": [
        "# xgb = XGBClassifier(n_estimators = 1000,learning_rate = 0.01)\n",
        "# out_xgb = score(xgb, 'XGBClassifier')\n",
        "# res_xgb = pd.DataFrame(out_xgb)\n",
        "# res_xgb.to_csv('res_xgb.csv', index=False)"
      ],
      "metadata": {
        "id": "b7MuDTEmfxM1"
      },
      "execution_count": null,
      "outputs": []
    },
    {
      "cell_type": "code",
      "source": [
        "xgb = XGBClassifier(n_estimators = 1000,learning_rate = 0.01)\n",
        "xgb.fit(X,y)"
      ],
      "metadata": {
        "colab": {
          "base_uri": "https://localhost:8080/",
          "height": 248
        },
        "id": "Lw5CcoaYh4X7",
        "outputId": "c1a31359-f0ff-45ea-f04c-2125162aed1d"
      },
      "execution_count": null,
      "outputs": [
        {
          "output_type": "execute_result",
          "data": {
            "text/plain": [
              "XGBClassifier(base_score=None, booster=None, callbacks=None,\n",
              "              colsample_bylevel=None, colsample_bynode=None,\n",
              "              colsample_bytree=None, early_stopping_rounds=None,\n",
              "              enable_categorical=False, eval_metric=None, feature_types=None,\n",
              "              gamma=None, gpu_id=None, grow_policy=None, importance_type=None,\n",
              "              interaction_constraints=None, learning_rate=0.01, max_bin=None,\n",
              "              max_cat_threshold=None, max_cat_to_onehot=None,\n",
              "              max_delta_step=None, max_depth=None, max_leaves=None,\n",
              "              min_child_weight=None, missing=nan, monotone_constraints=None,\n",
              "              n_estimators=1000, n_jobs=None, num_parallel_tree=None,\n",
              "              predictor=None, random_state=None, ...)"
            ],
            "text/html": [
              "<style>#sk-container-id-1 {color: black;background-color: white;}#sk-container-id-1 pre{padding: 0;}#sk-container-id-1 div.sk-toggleable {background-color: white;}#sk-container-id-1 label.sk-toggleable__label {cursor: pointer;display: block;width: 100%;margin-bottom: 0;padding: 0.3em;box-sizing: border-box;text-align: center;}#sk-container-id-1 label.sk-toggleable__label-arrow:before {content: \"▸\";float: left;margin-right: 0.25em;color: #696969;}#sk-container-id-1 label.sk-toggleable__label-arrow:hover:before {color: black;}#sk-container-id-1 div.sk-estimator:hover label.sk-toggleable__label-arrow:before {color: black;}#sk-container-id-1 div.sk-toggleable__content {max-height: 0;max-width: 0;overflow: hidden;text-align: left;background-color: #f0f8ff;}#sk-container-id-1 div.sk-toggleable__content pre {margin: 0.2em;color: black;border-radius: 0.25em;background-color: #f0f8ff;}#sk-container-id-1 input.sk-toggleable__control:checked~div.sk-toggleable__content {max-height: 200px;max-width: 100%;overflow: auto;}#sk-container-id-1 input.sk-toggleable__control:checked~label.sk-toggleable__label-arrow:before {content: \"▾\";}#sk-container-id-1 div.sk-estimator input.sk-toggleable__control:checked~label.sk-toggleable__label {background-color: #d4ebff;}#sk-container-id-1 div.sk-label input.sk-toggleable__control:checked~label.sk-toggleable__label {background-color: #d4ebff;}#sk-container-id-1 input.sk-hidden--visually {border: 0;clip: rect(1px 1px 1px 1px);clip: rect(1px, 1px, 1px, 1px);height: 1px;margin: -1px;overflow: hidden;padding: 0;position: absolute;width: 1px;}#sk-container-id-1 div.sk-estimator {font-family: monospace;background-color: #f0f8ff;border: 1px dotted black;border-radius: 0.25em;box-sizing: border-box;margin-bottom: 0.5em;}#sk-container-id-1 div.sk-estimator:hover {background-color: #d4ebff;}#sk-container-id-1 div.sk-parallel-item::after {content: \"\";width: 100%;border-bottom: 1px solid gray;flex-grow: 1;}#sk-container-id-1 div.sk-label:hover label.sk-toggleable__label {background-color: #d4ebff;}#sk-container-id-1 div.sk-serial::before {content: \"\";position: absolute;border-left: 1px solid gray;box-sizing: border-box;top: 0;bottom: 0;left: 50%;z-index: 0;}#sk-container-id-1 div.sk-serial {display: flex;flex-direction: column;align-items: center;background-color: white;padding-right: 0.2em;padding-left: 0.2em;position: relative;}#sk-container-id-1 div.sk-item {position: relative;z-index: 1;}#sk-container-id-1 div.sk-parallel {display: flex;align-items: stretch;justify-content: center;background-color: white;position: relative;}#sk-container-id-1 div.sk-item::before, #sk-container-id-1 div.sk-parallel-item::before {content: \"\";position: absolute;border-left: 1px solid gray;box-sizing: border-box;top: 0;bottom: 0;left: 50%;z-index: -1;}#sk-container-id-1 div.sk-parallel-item {display: flex;flex-direction: column;z-index: 1;position: relative;background-color: white;}#sk-container-id-1 div.sk-parallel-item:first-child::after {align-self: flex-end;width: 50%;}#sk-container-id-1 div.sk-parallel-item:last-child::after {align-self: flex-start;width: 50%;}#sk-container-id-1 div.sk-parallel-item:only-child::after {width: 0;}#sk-container-id-1 div.sk-dashed-wrapped {border: 1px dashed gray;margin: 0 0.4em 0.5em 0.4em;box-sizing: border-box;padding-bottom: 0.4em;background-color: white;}#sk-container-id-1 div.sk-label label {font-family: monospace;font-weight: bold;display: inline-block;line-height: 1.2em;}#sk-container-id-1 div.sk-label-container {text-align: center;}#sk-container-id-1 div.sk-container {/* jupyter's `normalize.less` sets `[hidden] { display: none; }` but bootstrap.min.css set `[hidden] { display: none !important; }` so we also need the `!important` here to be able to override the default hidden behavior on the sphinx rendered scikit-learn.org. See: https://github.com/scikit-learn/scikit-learn/issues/21755 */display: inline-block !important;position: relative;}#sk-container-id-1 div.sk-text-repr-fallback {display: none;}</style><div id=\"sk-container-id-1\" class=\"sk-top-container\"><div class=\"sk-text-repr-fallback\"><pre>XGBClassifier(base_score=None, booster=None, callbacks=None,\n",
              "              colsample_bylevel=None, colsample_bynode=None,\n",
              "              colsample_bytree=None, early_stopping_rounds=None,\n",
              "              enable_categorical=False, eval_metric=None, feature_types=None,\n",
              "              gamma=None, gpu_id=None, grow_policy=None, importance_type=None,\n",
              "              interaction_constraints=None, learning_rate=0.01, max_bin=None,\n",
              "              max_cat_threshold=None, max_cat_to_onehot=None,\n",
              "              max_delta_step=None, max_depth=None, max_leaves=None,\n",
              "              min_child_weight=None, missing=nan, monotone_constraints=None,\n",
              "              n_estimators=1000, n_jobs=None, num_parallel_tree=None,\n",
              "              predictor=None, random_state=None, ...)</pre><b>In a Jupyter environment, please rerun this cell to show the HTML representation or trust the notebook. <br />On GitHub, the HTML representation is unable to render, please try loading this page with nbviewer.org.</b></div><div class=\"sk-container\" hidden><div class=\"sk-item\"><div class=\"sk-estimator sk-toggleable\"><input class=\"sk-toggleable__control sk-hidden--visually\" id=\"sk-estimator-id-1\" type=\"checkbox\" checked><label for=\"sk-estimator-id-1\" class=\"sk-toggleable__label sk-toggleable__label-arrow\">XGBClassifier</label><div class=\"sk-toggleable__content\"><pre>XGBClassifier(base_score=None, booster=None, callbacks=None,\n",
              "              colsample_bylevel=None, colsample_bynode=None,\n",
              "              colsample_bytree=None, early_stopping_rounds=None,\n",
              "              enable_categorical=False, eval_metric=None, feature_types=None,\n",
              "              gamma=None, gpu_id=None, grow_policy=None, importance_type=None,\n",
              "              interaction_constraints=None, learning_rate=0.01, max_bin=None,\n",
              "              max_cat_threshold=None, max_cat_to_onehot=None,\n",
              "              max_delta_step=None, max_depth=None, max_leaves=None,\n",
              "              min_child_weight=None, missing=nan, monotone_constraints=None,\n",
              "              n_estimators=1000, n_jobs=None, num_parallel_tree=None,\n",
              "              predictor=None, random_state=None, ...)</pre></div></div></div></div></div>"
            ]
          },
          "metadata": {},
          "execution_count": 27
        }
      ]
    },
    {
      "cell_type": "code",
      "source": [
        "x_tes = pd.read_csv('/content/drive/MyDrive/Colab Notebooks/Test_Data_Health.csv')"
      ],
      "metadata": {
        "id": "f8kWBZBhieNw"
      },
      "execution_count": null,
      "outputs": []
    },
    {
      "cell_type": "code",
      "source": [],
      "metadata": {
        "id": "vq9uYjgzo9Rw"
      },
      "execution_count": null,
      "outputs": []
    },
    {
      "cell_type": "code",
      "source": [
        "x_tes = x_tes.apply(LabelEncoder().fit_transform)\n",
        "x_tes = x_tes.drop(['Food preference'], axis =1)\n"
      ],
      "metadata": {
        "id": "Yo2mq5_iiqPp"
      },
      "execution_count": null,
      "outputs": []
    },
    {
      "cell_type": "code",
      "source": [
        "pred = xgb.predict(x_tes)"
      ],
      "metadata": {
        "id": "7JDifT3KiWOz"
      },
      "execution_count": null,
      "outputs": []
    },
    {
      "cell_type": "code",
      "source": [
        "res_xgb = pd.DataFrame(pred)"
      ],
      "metadata": {
        "id": "P3jQHEXvjHvH"
      },
      "execution_count": null,
      "outputs": []
    },
    {
      "cell_type": "code",
      "source": [
        "# res_xgb.to_csv('res_xgb.csv', index=False)\n"
      ],
      "metadata": {
        "id": "C9W1ONZ-jX1b"
      },
      "execution_count": null,
      "outputs": []
    },
    {
      "cell_type": "code",
      "source": [
        "xgbrf = XGBRFClassifier(n_estimators = 1000,\n",
        "                        learning_rate = 0.1\n",
        "                        )\n",
        "score(xgbrf,XGBRFClassifier)"
      ],
      "metadata": {
        "id": "uKINLglaf3sb",
        "colab": {
          "base_uri": "https://localhost:8080/"
        },
        "outputId": "075f908c-fe45-4250-aedc-2bb2ef0cb41c"
      },
      "execution_count": null,
      "outputs": [
        {
          "output_type": "stream",
          "name": "stdout",
          "text": [
            "Accuracy for <class 'xgboost.sklearn.XGBRFClassifier'> : 0.76619 \n",
            "\n"
          ]
        },
        {
          "output_type": "execute_result",
          "data": {
            "text/plain": [
              "array([0, 0, 0, ..., 1, 1, 1])"
            ]
          },
          "metadata": {},
          "execution_count": 33
        }
      ]
    },
    {
      "cell_type": "code",
      "source": [],
      "metadata": {
        "id": "IX-TW2cxmZDc"
      },
      "execution_count": null,
      "outputs": []
    }
  ]
}