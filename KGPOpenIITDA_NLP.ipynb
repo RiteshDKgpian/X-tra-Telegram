{
  "nbformat": 4,
  "nbformat_minor": 0,
  "metadata": {
    "colab": {
      "provenance": [],
      "collapsed_sections": [
        "ogeAgacCq7MB"
      ],
      "include_colab_link": true
    },
    "kernelspec": {
      "name": "python3",
      "display_name": "Python 3"
    },
    "language_info": {
      "name": "python"
    }
  },
  "cells": [
    {
      "cell_type": "markdown",
      "metadata": {
        "id": "view-in-github",
        "colab_type": "text"
      },
      "source": [
        "<a href=\"https://colab.research.google.com/github/RiteshDKgpian/X-tra-Telegram/blob/master/KGPOpenIITDA_NLP.ipynb\" target=\"_parent\"><img src=\"https://colab.research.google.com/assets/colab-badge.svg\" alt=\"Open In Colab\"/></a>"
      ]
    },
    {
      "cell_type": "markdown",
      "source": [
        "AMIT VAIRAGADE"
      ],
      "metadata": {
        "id": "jmUTMrrOe49X"
      }
    },
    {
      "cell_type": "code",
      "source": [
        "import numpy as np\n",
        "#import pandas as pd\n",
        "#from matplotlib import pyplot as plt\n",
        "#import seaborn as sns"
      ],
      "metadata": {
        "id": "rEDtHCtledf8"
      },
      "execution_count": null,
      "outputs": []
    },
    {
      "cell_type": "markdown",
      "source": [
        "nlp imports"
      ],
      "metadata": {
        "id": "gfqjJc7NfE_S"
      }
    },
    {
      "cell_type": "code",
      "source": [
        "import nltk\n",
        "from nltk import tokenize\n",
        "nltk.download('stopwords')\n",
        "nltk.download('punkt')\n",
        "nltk.download('wordnet')\n",
        "nltk.download('omw-1.4')\n",
        "from nltk.corpus import stopwords\n",
        "from nltk.stem.porter import PorterStemmer\n",
        "from nltk.stem import WordNetLemmatizer\n",
        "ps = PorterStemmer()\n",
        "wml = WordNetLemmatizer()"
      ],
      "metadata": {
        "colab": {
          "base_uri": "https://localhost:8080/"
        },
        "id": "eWbzqWoie5we",
        "outputId": "684f8561-1875-4804-9106-2e678f51eeb1"
      },
      "execution_count": null,
      "outputs": [
        {
          "output_type": "stream",
          "name": "stderr",
          "text": [
            "[nltk_data] Downloading package stopwords to /root/nltk_data...\n",
            "[nltk_data]   Package stopwords is already up-to-date!\n",
            "[nltk_data] Downloading package punkt to /root/nltk_data...\n",
            "[nltk_data]   Package punkt is already up-to-date!\n",
            "[nltk_data] Downloading package wordnet to /root/nltk_data...\n",
            "[nltk_data]   Package wordnet is already up-to-date!\n",
            "[nltk_data] Downloading package omw-1.4 to /root/nltk_data...\n",
            "[nltk_data]   Package omw-1.4 is already up-to-date!\n"
          ]
        }
      ]
    },
    {
      "cell_type": "code",
      "source": [
        "from google.colab import drive\n",
        "drive.mount('/content/drive')"
      ],
      "metadata": {
        "colab": {
          "base_uri": "https://localhost:8080/"
        },
        "id": "LxOaNEt5eaSw",
        "outputId": "f823aed0-76d3-47b5-a8b6-3246c2b54153"
      },
      "execution_count": null,
      "outputs": [
        {
          "output_type": "stream",
          "name": "stdout",
          "text": [
            "Drive already mounted at /content/drive; to attempt to forcibly remount, call drive.mount(\"/content/drive\", force_remount=True).\n"
          ]
        }
      ]
    },
    {
      "cell_type": "code",
      "source": [
        "with open(\"/content/drive/MyDrive/text-and-id.txt\") as f:\n",
        "  #text_data=f.read()\n",
        "  text_data=[line.strip() for line in f.readlines()]\n",
        "#with open(\"/content/drive/MyDrive/text-and-id.txt\") as f:\n",
        "    #text2=[print(line.strip()) for line in f.readlines()]"
      ],
      "metadata": {
        "id": "IIpqXMWNe_lz"
      },
      "execution_count": null,
      "outputs": []
    },
    {
      "cell_type": "code",
      "source": [
        "#del text2\n",
        "#del f\n",
        "#del sentences"
      ],
      "metadata": {
        "id": "0A2nB5hRasIZ"
      },
      "execution_count": null,
      "outputs": []
    },
    {
      "cell_type": "markdown",
      "source": [],
      "metadata": {
        "id": "nxAIaeKzff9T"
      }
    },
    {
      "cell_type": "code",
      "source": [
        "lengths=[len(sentence)-1 for sentence in text_data ]\n",
        "lengths_prep=np.array(lengths)\n",
        "print(f\"sum={lengths_prep.sum()} max={lengths_prep.max()} min={lengths_prep.min()} mean={lengths_prep.mean()}\")"
      ],
      "metadata": {
        "colab": {
          "base_uri": "https://localhost:8080/"
        },
        "id": "wUl3xYcBctua",
        "outputId": "30bb2755-6603-4824-dff9-e0863b0e3163"
      },
      "execution_count": null,
      "outputs": [
        {
          "output_type": "stream",
          "name": "stdout",
          "text": [
            "sum=269317 max=1811 min=9 mean=134.6585\n"
          ]
        }
      ]
    },
    {
      "cell_type": "markdown",
      "source": [
        "stop words"
      ],
      "metadata": {
        "id": "UpotgDr9gU1t"
      }
    },
    {
      "cell_type": "code",
      "source": [
        "stop_words = stopwords.words('english')\n",
        "print(stop_words)"
      ],
      "metadata": {
        "colab": {
          "base_uri": "https://localhost:8080/"
        },
        "id": "KKXANdw2ffEE",
        "outputId": "c20bd748-e29c-49ca-da86-3a405316906e"
      },
      "execution_count": null,
      "outputs": [
        {
          "output_type": "stream",
          "name": "stdout",
          "text": [
            "['i', 'me', 'my', 'myself', 'we', 'our', 'ours', 'ourselves', 'you', \"you're\", \"you've\", \"you'll\", \"you'd\", 'your', 'yours', 'yourself', 'yourselves', 'he', 'him', 'his', 'himself', 'she', \"she's\", 'her', 'hers', 'herself', 'it', \"it's\", 'its', 'itself', 'they', 'them', 'their', 'theirs', 'themselves', 'what', 'which', 'who', 'whom', 'this', 'that', \"that'll\", 'these', 'those', 'am', 'is', 'are', 'was', 'were', 'be', 'been', 'being', 'have', 'has', 'had', 'having', 'do', 'does', 'did', 'doing', 'a', 'an', 'the', 'and', 'but', 'if', 'or', 'because', 'as', 'until', 'while', 'of', 'at', 'by', 'for', 'with', 'about', 'against', 'between', 'into', 'through', 'during', 'before', 'after', 'above', 'below', 'to', 'from', 'up', 'down', 'in', 'out', 'on', 'off', 'over', 'under', 'again', 'further', 'then', 'once', 'here', 'there', 'when', 'where', 'why', 'how', 'all', 'any', 'both', 'each', 'few', 'more', 'most', 'other', 'some', 'such', 'no', 'nor', 'not', 'only', 'own', 'same', 'so', 'than', 'too', 'very', 's', 't', 'can', 'will', 'just', 'don', \"don't\", 'should', \"should've\", 'now', 'd', 'll', 'm', 'o', 're', 've', 'y', 'ain', 'aren', \"aren't\", 'couldn', \"couldn't\", 'didn', \"didn't\", 'doesn', \"doesn't\", 'hadn', \"hadn't\", 'hasn', \"hasn't\", 'haven', \"haven't\", 'isn', \"isn't\", 'ma', 'mightn', \"mightn't\", 'mustn', \"mustn't\", 'needn', \"needn't\", 'shan', \"shan't\", 'shouldn', \"shouldn't\", 'wasn', \"wasn't\", 'weren', \"weren't\", 'won', \"won't\", 'wouldn', \"wouldn't\"]\n"
          ]
        }
      ]
    },
    {
      "cell_type": "code",
      "source": [
        "relevant_words=[\"he\",\"she\",\"him\",\"her\",\"himself\",\"herself\",\"man\",\"men\",\"woman\",\"women\",\"male\",\"female\"]"
      ],
      "metadata": {
        "id": "8dsGPW4dgbft"
      },
      "execution_count": null,
      "outputs": []
    },
    {
      "cell_type": "code",
      "source": [
        "stop_words_mod=[k for k in stop_words if (k not in relevant_words) ]\n",
        "print(stop_words_mod)"
      ],
      "metadata": {
        "colab": {
          "base_uri": "https://localhost:8080/"
        },
        "id": "_eDep4MPg4hN",
        "outputId": "78ee2d53-060d-4a3a-a9fd-f450db2fe26a"
      },
      "execution_count": null,
      "outputs": [
        {
          "output_type": "stream",
          "name": "stdout",
          "text": [
            "['i', 'me', 'my', 'myself', 'we', 'our', 'ours', 'ourselves', 'you', \"you're\", \"you've\", \"you'll\", \"you'd\", 'your', 'yours', 'yourself', 'yourselves', 'his', \"she's\", 'hers', 'it', \"it's\", 'its', 'itself', 'they', 'them', 'their', 'theirs', 'themselves', 'what', 'which', 'who', 'whom', 'this', 'that', \"that'll\", 'these', 'those', 'am', 'is', 'are', 'was', 'were', 'be', 'been', 'being', 'have', 'has', 'had', 'having', 'do', 'does', 'did', 'doing', 'a', 'an', 'the', 'and', 'but', 'if', 'or', 'because', 'as', 'until', 'while', 'of', 'at', 'by', 'for', 'with', 'about', 'against', 'between', 'into', 'through', 'during', 'before', 'after', 'above', 'below', 'to', 'from', 'up', 'down', 'in', 'out', 'on', 'off', 'over', 'under', 'again', 'further', 'then', 'once', 'here', 'there', 'when', 'where', 'why', 'how', 'all', 'any', 'both', 'each', 'few', 'more', 'most', 'other', 'some', 'such', 'no', 'nor', 'not', 'only', 'own', 'same', 'so', 'than', 'too', 'very', 's', 't', 'can', 'will', 'just', 'don', \"don't\", 'should', \"should've\", 'now', 'd', 'll', 'm', 'o', 're', 've', 'y', 'ain', 'aren', \"aren't\", 'couldn', \"couldn't\", 'didn', \"didn't\", 'doesn', \"doesn't\", 'hadn', \"hadn't\", 'hasn', \"hasn't\", 'haven', \"haven't\", 'isn', \"isn't\", 'ma', 'mightn', \"mightn't\", 'mustn', \"mustn't\", 'needn', \"needn't\", 'shan', \"shan't\", 'shouldn', \"shouldn't\", 'wasn', \"wasn't\", 'weren', \"weren't\", 'won', \"won't\", 'wouldn', \"wouldn't\"]\n"
          ]
        }
      ]
    },
    {
      "cell_type": "markdown",
      "source": [
        "lower case"
      ],
      "metadata": {
        "id": "tO00bwPqk-X8"
      }
    },
    {
      "cell_type": "code",
      "source": [
        "for i in np.arange(len(text_data)):\n",
        "  text_data[i]=text_data[i].lower()"
      ],
      "metadata": {
        "id": "Q9TeAYMtk_vc"
      },
      "execution_count": null,
      "outputs": []
    },
    {
      "cell_type": "markdown",
      "source": [
        "# trial"
      ],
      "metadata": {
        "id": "ogeAgacCq7MB"
      }
    },
    {
      "cell_type": "code",
      "source": [
        "sample_sentence=text_data[0]\n",
        "sample_sentence"
      ],
      "metadata": {
        "colab": {
          "base_uri": "https://localhost:8080/",
          "height": 122
        },
        "id": "P4eTVQ9Vo-BZ",
        "outputId": "27ced068-578d-455a-abb0-9cdabf3e20fc"
      },
      "execution_count": null,
      "outputs": [
        {
          "output_type": "execute_result",
          "data": {
            "text/plain": [
              "'57 every person has a right to profess, practice and propagate the religion he or she believes in. every religious group or sect is free to manage its religious affairs. a right to propagate one s religion, however, does not mean that a person has right to compel another person to convert into his religion by means of force, fraud, inducement or allurement. of course, a person is free to change religion on his or her own will. freedom to practice religion does not mean that a person can do whatever he wants in the name of religion. for example, one cannot sacrifice animals or human beings as offerings to supernatural forces or gods. religious practices which treat women as inferior or those that infringe women s freedom are not allowed. for example, one cannot force a widowed woman to shave head or wear white clothes.'"
            ],
            "application/vnd.google.colaboratory.intrinsic+json": {
              "type": "string"
            }
          },
          "metadata": {},
          "execution_count": 11
        }
      ]
    },
    {
      "cell_type": "code",
      "source": [
        "filter_words=[]\n",
        "for w in sample_sentence.split(\" \"):\n",
        "    if w not in stop_words_mod:\n",
        "         filter_words.append(wml.lemmatize(w))\n",
        "filter_words"
      ],
      "metadata": {
        "colab": {
          "base_uri": "https://localhost:8080/"
        },
        "id": "ZJdcUq3wpMlx",
        "outputId": "f94dfb04-d869-474f-bbee-e01bba93dc68"
      },
      "execution_count": null,
      "outputs": [
        {
          "output_type": "execute_result",
          "data": {
            "text/plain": [
              "['57',\n",
              " 'every',\n",
              " 'person',\n",
              " 'right',\n",
              " 'profess,',\n",
              " 'practice',\n",
              " 'propagate',\n",
              " 'religion',\n",
              " 'he',\n",
              " 'she',\n",
              " 'belief',\n",
              " 'in.',\n",
              " 'every',\n",
              " 'religious',\n",
              " 'group',\n",
              " 'sect',\n",
              " 'free',\n",
              " 'manage',\n",
              " 'religious',\n",
              " 'affairs.',\n",
              " 'right',\n",
              " 'propagate',\n",
              " 'one',\n",
              " 'religion,',\n",
              " 'however,',\n",
              " 'mean',\n",
              " 'person',\n",
              " 'right',\n",
              " 'compel',\n",
              " 'another',\n",
              " 'person',\n",
              " 'convert',\n",
              " 'religion',\n",
              " 'mean',\n",
              " 'force,',\n",
              " 'fraud,',\n",
              " 'inducement',\n",
              " 'allurement.',\n",
              " 'course,',\n",
              " 'person',\n",
              " 'free',\n",
              " 'change',\n",
              " 'religion',\n",
              " 'her',\n",
              " 'will.',\n",
              " 'freedom',\n",
              " 'practice',\n",
              " 'religion',\n",
              " 'mean',\n",
              " 'person',\n",
              " 'whatever',\n",
              " 'he',\n",
              " 'want',\n",
              " 'name',\n",
              " 'religion.',\n",
              " 'example,',\n",
              " 'one',\n",
              " 'cannot',\n",
              " 'sacrifice',\n",
              " 'animal',\n",
              " 'human',\n",
              " 'being',\n",
              " 'offering',\n",
              " 'supernatural',\n",
              " 'force',\n",
              " 'gods.',\n",
              " 'religious',\n",
              " 'practice',\n",
              " 'treat',\n",
              " 'woman',\n",
              " 'inferior',\n",
              " 'infringe',\n",
              " 'woman',\n",
              " 'freedom',\n",
              " 'allowed.',\n",
              " 'example,',\n",
              " 'one',\n",
              " 'cannot',\n",
              " 'force',\n",
              " 'widowed',\n",
              " 'woman',\n",
              " 'shave',\n",
              " 'head',\n",
              " 'wear',\n",
              " 'white',\n",
              " 'clothes.']"
            ]
          },
          "metadata": {},
          "execution_count": 12
        }
      ]
    },
    {
      "cell_type": "code",
      "source": [
        "new_sample_sentence=\" \".join(filter_words)\n",
        "new_sample_sentence"
      ],
      "metadata": {
        "colab": {
          "base_uri": "https://localhost:8080/",
          "height": 87
        },
        "id": "ARn7Q2b0p-vm",
        "outputId": "67ece981-e792-40fb-d6be-e683a6c1c588"
      },
      "execution_count": null,
      "outputs": [
        {
          "output_type": "execute_result",
          "data": {
            "text/plain": [
              "'57 every person right profess, practice propagate religion he she belief in. every religious group sect free manage religious affairs. right propagate one religion, however, mean person right compel another person convert religion mean force, fraud, inducement allurement. course, person free change religion her will. freedom practice religion mean person whatever he want name religion. example, one cannot sacrifice animal human being offering supernatural force gods. religious practice treat woman inferior infringe woman freedom allowed. example, one cannot force widowed woman shave head wear white clothes.'"
            ],
            "application/vnd.google.colaboratory.intrinsic+json": {
              "type": "string"
            }
          },
          "metadata": {},
          "execution_count": 13
        }
      ]
    },
    {
      "cell_type": "code",
      "source": [
        "del new_sample_sentence,filter_words,w,sample_sentence"
      ],
      "metadata": {
        "id": "iLsf34EdFbT0"
      },
      "execution_count": null,
      "outputs": []
    },
    {
      "cell_type": "markdown",
      "source": [
        "# stopwords removal, stemming and lemmatization"
      ],
      "metadata": {
        "id": "VdXh5pFMsQWO"
      }
    },
    {
      "cell_type": "code",
      "source": [
        "text_data_mod=[]\n",
        "text_data_mod_ps=[]\n",
        "text_data_mod_wml=[]"
      ],
      "metadata": {
        "id": "zQ8ivA2Zo4Xq"
      },
      "execution_count": null,
      "outputs": []
    },
    {
      "cell_type": "code",
      "source": [
        "print(f\"sum={lengths_prep.sum()} max={lengths_prep.max()} min={lengths_prep.min()} mean={lengths_prep.mean()}\")"
      ],
      "metadata": {
        "colab": {
          "base_uri": "https://localhost:8080/"
        },
        "id": "613ceaCbtAsh",
        "outputId": "e5281bb7-36e1-403b-8ffd-2275f2c185aa"
      },
      "execution_count": null,
      "outputs": [
        {
          "output_type": "stream",
          "name": "stdout",
          "text": [
            "sum=269317 max=1811 min=9 mean=134.6585\n"
          ]
        }
      ]
    },
    {
      "cell_type": "code",
      "source": [
        "for sentence in text_data:\n",
        "  filter_words=[]\n",
        "  filter_words_ps=[]\n",
        "  filter_words_wml=[]\n",
        "  for w in sentence.split(\" \"):\n",
        "    if w not in stop_words_mod:\n",
        "         filter_words.append(w)\n",
        "         filter_words_ps.append(ps.stem(w))\n",
        "         filter_words_wml.append(wml.lemmatize(w))\n",
        "  new_sentence=\" \".join(filter_words)\n",
        "  text_data_mod.append(new_sentence)\n",
        "  new_sentence=\" \".join(filter_words_ps)\n",
        "  text_data_mod_ps.append(new_sentence)\n",
        "  new_sentence=\" \".join(filter_words_wml)\n",
        "  text_data_mod_wml.append(new_sentence)"
      ],
      "metadata": {
        "id": "dhyxyd4lsiuY"
      },
      "execution_count": null,
      "outputs": []
    },
    {
      "cell_type": "code",
      "source": [
        "for texts in [text_data, text_data_mod, text_data_mod_ps, text_data_mod_wml]:\n",
        "  lengths=[len(sentence)-1 for sentence in texts ]\n",
        "  lengths_postp=np.array(lengths)\n",
        "  print(f\"sum={lengths_postp.sum()} max={lengths_postp.max()} min={lengths_postp.min()} mean={lengths_postp.mean()}\")"
      ],
      "metadata": {
        "colab": {
          "base_uri": "https://localhost:8080/"
        },
        "id": "8OquY1WUtAIx",
        "outputId": "9fc555c0-9607-40c6-8ffb-007c09a37e6e"
      },
      "execution_count": null,
      "outputs": [
        {
          "output_type": "stream",
          "name": "stdout",
          "text": [
            "sum=269317 max=1811 min=9 mean=134.6585\n",
            "sum=193463 max=1304 min=5 mean=96.7315\n",
            "sum=173143 max=1152 min=5 mean=86.5715\n",
            "sum=189900 max=1277 min=5 mean=94.95\n"
          ]
        }
      ]
    }
  ]
}